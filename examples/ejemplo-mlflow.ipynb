{
 "cells": [
  {
   "cell_type": "code",
   "execution_count": 2,
   "metadata": {},
   "outputs": [],
   "source": [
    "import mlflow\n",
    "\n",
    "from sklearn.model_selection import train_test_split\n",
    "from sklearn.datasets import load_diabetes\n",
    "from sklearn.ensemble import RandomForestRegressor\n"
   ]
  },
  {
   "cell_type": "code",
   "execution_count": 3,
   "metadata": {},
   "outputs": [],
   "source": [
    "# Se hace la lectura del dataset de prueba\n",
    "\n",
    "db = load_diabetes()\n",
    "X_train, X_test, y_train, y_test = train_test_split(db.data, db.target)"
   ]
  },
  {
   "cell_type": "code",
   "execution_count": 4,
   "metadata": {},
   "outputs": [
    {
     "name": "stderr",
     "output_type": "stream",
     "text": [
      "2023/11/04 02:04:13 INFO mlflow.tracking.fluent: Autologging successfully enabled for sklearn.\n",
      "2023/11/04 02:04:13 INFO mlflow.utils.autologging_utils: Created MLflow autologging run with ID '788cf660868744049f048bc1f4232258', which will track hyperparameters, performance metrics, model artifacts, and lineage information for the current sklearn workflow\n",
      "2023/11/04 02:04:15 WARNING mlflow.utils.autologging_utils: MLflow autologging encountered a warning: \"/Users/rodrigocatalan/anaconda3/lib/python3.11/site-packages/_distutils_hack/__init__.py:33: UserWarning: Setuptools is replacing distutils.\"\n"
     ]
    }
   ],
   "source": [
    "# Opción básica\n",
    "mlflow.autolog()\n",
    "\n",
    "# Create and train models.\n",
    "rf = RandomForestRegressor(n_estimators=100, max_depth=6, max_features=3)\n",
    "rf.fit(X_train, y_train)\n",
    "\n",
    "# Use the model to make predictions on the test dataset.\n",
    "predictions = rf.predict(X_test)"
   ]
  },
  {
   "cell_type": "code",
   "execution_count": 5,
   "metadata": {},
   "outputs": [
    {
     "name": "stderr",
     "output_type": "stream",
     "text": [
      "2023/11/04 02:04:15 INFO mlflow.utils.autologging_utils: Created MLflow autologging run with ID '8decfc95fdb14fc296a7c9e20d6e7692', which will track hyperparameters, performance metrics, model artifacts, and lineage information for the current sklearn workflow\n"
     ]
    }
   ],
   "source": [
    "# Create and train models.\n",
    "rf2 = RandomForestRegressor(n_estimators=50, max_depth=3, max_features=5)\n",
    "rf2.fit(X_train, y_train)\n",
    "\n",
    "# Use the model to make predictions on the test dataset.\n",
    "predictions2 = rf2.predict(X_test)"
   ]
  },
  {
   "cell_type": "code",
   "execution_count": 6,
   "metadata": {},
   "outputs": [
    {
     "name": "stderr",
     "output_type": "stream",
     "text": [
      "2023/11/04 02:04:16 INFO mlflow.tracking.fluent: Experiment with name 'prueba-template' does not exist. Creating a new experiment.\n",
      "2023/11/04 02:04:16 INFO mlflow.tracking.fluent: Autologging successfully enabled for sklearn.\n"
     ]
    }
   ],
   "source": [
    "# Se puede hacer una experimentación nominal\n",
    "\n",
    "mlflow.set_experiment(experiment_name=\"prueba-template\")\n",
    "mlflow.autolog()"
   ]
  },
  {
   "cell_type": "code",
   "execution_count": 7,
   "metadata": {},
   "outputs": [],
   "source": [
    "# Se puede otorgar un nombre a la ejecución\n",
    "\n",
    "with mlflow.start_run(run_name='Randrom Forest'):\n",
    "    # Create and train models.\n",
    "    rf3 = RandomForestRegressor(n_estimators=100, max_depth=6, max_features=3)\n",
    "    rf3.fit(X_train, y_train)\n",
    "\n",
    "    # Use the model to make predictions on the test dataset.\n",
    "    predictions3 = rf3.predict(X_test)"
   ]
  },
  {
   "cell_type": "code",
   "execution_count": 8,
   "metadata": {},
   "outputs": [],
   "source": [
    "# Se puede dar otro nombre y variar representatividad\n",
    "\n",
    "with mlflow.start_run(run_name='Otra tecnica'):\n",
    "    # Create and train models.\n",
    "    rf = RandomForestRegressor(n_estimators=100, max_depth=6, max_features=3)\n",
    "    rf.fit(X_train, y_train)\n",
    "\n",
    "    # Use the model to make predictions on the test dataset.\n",
    "    predictions = rf.predict(X_test)"
   ]
  },
  {
   "cell_type": "code",
   "execution_count": 9,
   "metadata": {},
   "outputs": [
    {
     "name": "stdout",
     "output_type": "stream",
     "text": [
      "[2023-11-04 02:04:19 -0300] [27135] [INFO] Starting gunicorn 20.1.0\n",
      "[2023-11-04 02:04:19 -0300] [27135] [ERROR] Connection in use: ('127.0.0.1', 5000)\n",
      "[2023-11-04 02:04:19 -0300] [27135] [ERROR] Retrying in 1 second.\n",
      "[2023-11-04 02:04:20 -0300] [27135] [ERROR] Connection in use: ('127.0.0.1', 5000)\n",
      "[2023-11-04 02:04:20 -0300] [27135] [ERROR] Retrying in 1 second.\n",
      "[2023-11-04 02:04:21 -0300] [27135] [ERROR] Connection in use: ('127.0.0.1', 5000)\n",
      "[2023-11-04 02:04:21 -0300] [27135] [ERROR] Retrying in 1 second.\n",
      "[2023-11-04 02:04:22 -0300] [27135] [ERROR] Connection in use: ('127.0.0.1', 5000)\n",
      "[2023-11-04 02:04:22 -0300] [27135] [ERROR] Retrying in 1 second.\n",
      "[2023-11-04 02:04:23 -0300] [27135] [ERROR] Connection in use: ('127.0.0.1', 5000)\n",
      "[2023-11-04 02:04:23 -0300] [27135] [ERROR] Retrying in 1 second.\n",
      "[2023-11-04 02:04:24 -0300] [27135] [ERROR] Can't connect to ('127.0.0.1', 5000)\n",
      "Running the mlflow server failed. Please see the logs above for details.\n"
     ]
    }
   ],
   "source": [
    "!mlflow ui"
   ]
  }
 ],
 "metadata": {
  "kernelspec": {
   "display_name": "viu-23",
   "language": "python",
   "name": "python3"
  },
  "language_info": {
   "codemirror_mode": {
    "name": "ipython",
    "version": 3
   },
   "file_extension": ".py",
   "mimetype": "text/x-python",
   "name": "python",
   "nbconvert_exporter": "python",
   "pygments_lexer": "ipython3",
   "version": "3.11.6"
  },
  "orig_nbformat": 4
 },
 "nbformat": 4,
 "nbformat_minor": 2
}
